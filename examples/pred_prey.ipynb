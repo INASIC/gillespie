{
 "cells": [
  {
   "cell_type": "code",
   "execution_count": 1,
   "metadata": {
    "collapsed": false
   },
   "outputs": [
    {
     "ename": "ImportError",
     "evalue": "No module named gillespie",
     "output_type": "error",
     "traceback": [
      "\u001b[0;31m---------------------------------------------------------------------------\u001b[0m",
      "\u001b[0;31mImportError\u001b[0m                               Traceback (most recent call last)",
      "\u001b[0;32m<ipython-input-1-a67217186f0e>\u001b[0m in \u001b[0;36m<module>\u001b[0;34m()\u001b[0m\n\u001b[1;32m      5\u001b[0m \u001b[0;32mimport\u001b[0m \u001b[0mmatplotlib\u001b[0m\u001b[0;34m.\u001b[0m\u001b[0mpyplot\u001b[0m \u001b[0;32mas\u001b[0m \u001b[0mpl\u001b[0m\u001b[0;34m\u001b[0m\u001b[0m\n\u001b[1;32m      6\u001b[0m \u001b[0;34m\u001b[0m\u001b[0m\n\u001b[0;32m----> 7\u001b[0;31m \u001b[0;32mimport\u001b[0m \u001b[0mgillespie\u001b[0m\u001b[0;34m\u001b[0m\u001b[0m\n\u001b[0m\u001b[1;32m      8\u001b[0m \u001b[0;32mfrom\u001b[0m \u001b[0mgillespie\u001b[0m \u001b[0;32mimport\u001b[0m \u001b[0mintegrate\u001b[0m\u001b[0;34m\u001b[0m\u001b[0m\n\u001b[1;32m      9\u001b[0m \u001b[0;32mfrom\u001b[0m \u001b[0mgillespie\u001b[0m \u001b[0;32mimport\u001b[0m \u001b[0mcython_propensity_function\u001b[0m\u001b[0;34m\u001b[0m\u001b[0m\n",
      "\u001b[0;31mImportError\u001b[0m: No module named gillespie"
     ]
    }
   ],
   "source": [
    "#coding=utf-8\n",
    "\n",
    "from sympy import symbols\n",
    "import numpy as np\n",
    "import matplotlib.pyplot as pl\n",
    "\n",
    "import gillespie\n",
    "from gillespie import integrate\n",
    "from gillespie import cython_propensity_function\n",
    "reload(gillespie)\n",
    "\n",
    "%matplotlib inline\n",
    "\n",
    "X, Y, Z = symbols('X Y Z', integer=True)\n",
    "B, l, mu, nu = symbols('β λ μ ν', real=True)\n",
    "\n",
    "x = [X, Y, Z]\n",
    "\n",
    "T = [\n",
    "    {X: -1, Y: 1},\n",
    "    {X: -1, Y: 1},\n",
    "    {X:  1},\n",
    "    {Y: -1}\n",
    "]\n",
    "\n",
    "prop = [\n",
    "  B*X*Y,\n",
    "  nu*X,\n",
    "  l,\n",
    "  mu*Y\n",
    "]\n",
    "\n",
    "ics = {\n",
    "  X: 100,\n",
    "  Y: 0\n",
    "}\n",
    "\n",
    "parm = {\n",
    "  B: 0.005,\n",
    "  l: 2,\n",
    "  mu: 0.05,\n",
    "  nu: 0.01\n",
    "}\n",
    "\n",
    "y = list(integrate(x, T, prop, parm, ics, 1000))\n",
    "t, y1, y2, y3 = np.transpose(y)\n",
    "\n",
    "pl.figure(figsize=(20,12))\n",
    "ax = pl.plot(t, y1, t, y2, t, y3)"
   ]
  },
  {
   "cell_type": "code",
   "execution_count": null,
   "metadata": {
    "collapsed": false
   },
   "outputs": [],
   "source": [
    "\n",
    "print x\n",
    "\n",
    "[np.asarray(ics.get(xi,0)) for xi in x]\n"
   ]
  },
  {
   "cell_type": "code",
   "execution_count": null,
   "metadata": {
    "collapsed": false
   },
   "outputs": [],
   "source": [
    "np.array([100])+np.array([1,2])"
   ]
  },
  {
   "cell_type": "code",
   "execution_count": 4,
   "metadata": {
    "collapsed": false
   },
   "outputs": [
    {
     "data": {
      "image/png": "[encoded data removed]",
      "text/plain": [
       "<matplotlib.figure.Figure at 0x10e89d090>"
      ]
     },
     "metadata": {},
     "output_type": "display_data"
    }
   ],
   "source": [
    "import numpy as np\n",
    "import theano\n",
    "import theano.tensor as tt\n",
    "import matplotlib.pyplot as pl\n",
    "\n",
    "%matplotlib inline\n",
    "\n",
    "from theano.tensor.shared_randomstreams import RandomStreams\n",
    "\n",
    "def go():\n",
    "    \n",
    "    X, Y = map(tt.dvector, \"XY\")\n",
    "    B, l, mu, nu = map(tt.dscalar, ['β', 'λ', 'μ', 'ν'])\n",
    "    reps = 300\n",
    "    var_v  = [X, Y]\n",
    "    parm_v = [B, l, mu, nu]\n",
    "    \n",
    "    rng = RandomStreams(seed=233) #todo: makes sure it runs on GPU\n",
    "    r_u = rng.uniform((1,reps))\n",
    "    \n",
    "    t = [\n",
    "        {X: -1, Y: 1},\n",
    "        {X: -1, Y: 1},\n",
    "        {X:  1},\n",
    "        {Y: -1}\n",
    "    ]\n",
    "    \n",
    "    T_ = np.asarray([\n",
    "        [-1, 1],\n",
    "        [-1, 1],\n",
    "        [ 1, 0],\n",
    "        [ 0,-1]\n",
    "    ])\n",
    "\n",
    "    prop_v = [B*X*Y, nu*X, l, mu*Y]\n",
    "    prop_t = sum(prop_v)\n",
    "    prob_v = [p/prop_t for p in prop_v]\n",
    "    #v = tt.stack(prob_v)\n",
    "    v = tt.stack(prob_v).reshape((4,reps)).T #This happens because of variables as dvectors (rxns, reps)\n",
    "    \n",
    "    prb_f = theano.function(var_v+parm_v, v)\n",
    "    \n",
    "    tau_f = theano.function(var_v+parm_v, (1/prop_t)*tt.log(1/r_u))\n",
    "    \n",
    "    ran_f = theano.function(var_v+parm_v, rng.multinomial(n=1, pvals=v))\n",
    "    \n",
    "    ics = [\n",
    "        np.asarray([200]*reps),\n",
    "        np.asarray([2]*reps)\n",
    "    ]\n",
    "    \n",
    "    parm = [0.001, 2, 0.05, 0.1]\n",
    "    x = ics\n",
    "    interval = 2000\n",
    "    time = np.zeros(shape=(1,reps))\n",
    "    out = np.zeros(shape=(reps, interval, len(var_v)+1)) #(rep, time, vars+time)\n",
    "    \n",
    "    for idx in range(interval):\n",
    "    \n",
    "        #prop_i = prb_f(*args)\n",
    "        #print prop_i\n",
    "\n",
    "        #print prop_i\n",
    "        #print ran_i\n",
    "        args = [x[0],x[1]]+parm\n",
    "        time += tau_f(*args)\n",
    "\n",
    "        ran_i = ran_f(*args)\n",
    "        incr = np.dot(ran_i, T_).T\n",
    "        #print incr.T\n",
    "\n",
    "        x = np.asarray(x)+incr\n",
    "        out[:,idx,:] = np.concatenate((time, x)).T\n",
    "\n",
    "    #r[0,:,1,:] = x[0]\n",
    "    #r[0,:,:,1] = x[1]\n",
    "    #print r.shape\n",
    "    #print r[0]\n",
    "    #print out[0,:,1:3]\n",
    "    #print out[0,:,0:1]\n",
    "    for q in range(reps):\n",
    "        pl.plot(out[q,:,0:1], out[q,:,1], \"r-\", out[q,:,0:1], out[q,:,2], \"g-\")\n",
    "    \n",
    "go()"
   ]
  },
  {
   "cell_type": "code",
   "execution_count": null,
   "metadata": {
    "collapsed": false
   },
   "outputs": [],
   "source": [
    "import sympy\n",
    "x, y, z = symbols('x y z')\n",
    "sympy.simplify(x*2 + 2*x - 4)"
   ]
  },
  {
   "cell_type": "code",
   "execution_count": null,
   "metadata": {
    "collapsed": false
   },
   "outputs": [],
   "source": [
    "import theano.tensor as T\n",
    "x = T.dvector('x')\n",
    "y = T.dmatrix('y')\n",
    "\n",
    "fn = theano.function([x,y], 2*T.dot(x,y))\n",
    "\n",
    "x_, y_ = np.array([1,2,3]), np.array([\n",
    "        [3,2,1,5,1,7],\n",
    "        [1,2,4,6,1,8],\n",
    "        [4,5,6,7,1,1]\n",
    "    ])\n",
    "\n",
    "fn(x_,y_)"
   ]
  },
  {
   "cell_type": "code",
   "execution_count": null,
   "metadata": {
    "collapsed": false
   },
   "outputs": [],
   "source": [
    "np.array([1,3,4]).T"
   ]
  },
  {
   "cell_type": "code",
   "execution_count": null,
   "metadata": {
    "collapsed": false
   },
   "outputs": [],
   "source": [
    "rng = RandomStreams(seed=234)\n",
    "\n",
    "Z = tt.dmatrix('Z')\n",
    "fn_ = theano.function([Z], rng.multinomial(n=1, pvals=Z))"
   ]
  },
  {
   "cell_type": "code",
   "execution_count": null,
   "metadata": {
    "collapsed": false
   },
   "outputs": [],
   "source": [
    "S = np.zeros(shape=(2,2), dtype=np.float32)\n",
    "\n",
    "z = np.asarray(map(lambda i: fn_(np.array([[0.5,0.5],[0.1,0.9]])), range(100)), dtype=np.float32)\n",
    "\n",
    "print np.sum(z, axis=0)/np.sum(z, axis=(0,2), keepdims=True)\n"
   ]
  },
  {
   "cell_type": "code",
   "execution_count": null,
   "metadata": {
    "collapsed": false
   },
   "outputs": [],
   "source": [
    "sum([1,2])"
   ]
  },
  {
   "cell_type": "code",
   "execution_count": null,
   "metadata": {
    "collapsed": true
   },
   "outputs": [],
   "source": []
  }
 ],
 "metadata": {
  "kernelspec": {
   "display_name": "Python 2",
   "language": "python",
   "name": "python2"
  },
  "language_info": {
   "codemirror_mode": {
    "name": "ipython",
    "version": 2
   },
   "file_extension": ".py",
   "mimetype": "text/x-python",
   "name": "python",
   "nbconvert_exporter": "python",
   "pygments_lexer": "ipython2",
   "version": "2.7.10"
  }
 },
 "nbformat": 4,
 "nbformat_minor": 0
}
